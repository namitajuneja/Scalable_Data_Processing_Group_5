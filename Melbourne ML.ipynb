{
 "cells": [
  {
   "cell_type": "code",
   "execution_count": 1,
   "metadata": {},
   "outputs": [
    {
     "name": "stdout",
     "output_type": "stream",
     "text": [
      "+---+----------+---------------+-----+----+---------+------+-------+---------+--------+--------+--------+--------+---+--------+------------+---------+------------------+---------+----------+--------------------+-------------+\n",
      "|_c0|    Suburb|        Address|Rooms|Type|    Price|Method|SellerG|     Date|Distance|Postcode|Bedroom2|Bathroom|Car|Landsize|BuildingArea|YearBuilt|       CouncilArea|Lattitude|Longtitude|          Regionname|Propertycount|\n",
      "+---+----------+---------------+-----+----+---------+------+-------+---------+--------+--------+--------+--------+---+--------+------------+---------+------------------+---------+----------+--------------------+-------------+\n",
      "|  2|Abbotsford|25 Bloomburg St|    2|   h|1035000.0|     S| Biggin|4/02/2016|     2.5|  3067.0|     2.0|     1.0|0.0|   156.0|        79.0|   1900.0|Yarra City Council| -37.8079|  144.9934|Northern Metropol...|       4019.0|\n",
      "|  4|Abbotsford|   5 Charles St|    3|   h|1465000.0|    SP| Biggin|4/03/2017|     2.5|  3067.0|     3.0|     2.0|0.0|   134.0|       150.0|   1900.0|Yarra City Council| -37.8093|  144.9944|Northern Metropol...|       4019.0|\n",
      "|  6|Abbotsford|    55a Park St|    4|   h|1600000.0|    VB| Nelson|4/06/2016|     2.5|  3067.0|     3.0|     1.0|2.0|   120.0|       142.0|   2014.0|Yarra City Council| -37.8072|  144.9941|Northern Metropol...|       4019.0|\n",
      "| 11|Abbotsford|   124 Yarra St|    3|   h|1876000.0|     S| Nelson|7/05/2016|     2.5|  3067.0|     4.0|     2.0|0.0|   245.0|       210.0|   1910.0|Yarra City Council| -37.8024|  144.9993|Northern Metropol...|       4019.0|\n",
      "| 14|Abbotsford|  98 Charles St|    2|   h|1636000.0|     S| Nelson|8/10/2016|     2.5|  3067.0|     2.0|     1.0|2.0|   256.0|       107.0|   1890.0|Yarra City Council|  -37.806|  144.9954|Northern Metropol...|       4019.0|\n",
      "+---+----------+---------------+-----+----+---------+------+-------+---------+--------+--------+--------+--------+---+--------+------------+---------+------------------+---------+----------+--------------------+-------------+\n",
      "only showing top 5 rows\n",
      "\n"
     ]
    }
   ],
   "source": [
    "df_data = spark.read.format('org.apache.spark.sql.execution.datasources.csv.CSVFileFormat')\\\n",
    ".option('header', 'true').load('Melbourne.csv')\n",
    "\n",
    "df_data.show(5)"
   ]
  },
  {
   "cell_type": "code",
   "execution_count": 2,
   "metadata": {},
   "outputs": [
    {
     "name": "stdout",
     "output_type": "stream",
     "text": [
      "root\n",
      " |-- _c0: string (nullable = true)\n",
      " |-- Suburb: string (nullable = true)\n",
      " |-- Address: string (nullable = true)\n",
      " |-- Rooms: string (nullable = true)\n",
      " |-- Type: string (nullable = true)\n",
      " |-- Price: string (nullable = true)\n",
      " |-- Method: string (nullable = true)\n",
      " |-- SellerG: string (nullable = true)\n",
      " |-- Date: string (nullable = true)\n",
      " |-- Distance: string (nullable = true)\n",
      " |-- Postcode: string (nullable = true)\n",
      " |-- Bedroom2: string (nullable = true)\n",
      " |-- Bathroom: string (nullable = true)\n",
      " |-- Car: string (nullable = true)\n",
      " |-- Landsize: string (nullable = true)\n",
      " |-- BuildingArea: string (nullable = true)\n",
      " |-- YearBuilt: string (nullable = true)\n",
      " |-- CouncilArea: string (nullable = true)\n",
      " |-- Lattitude: string (nullable = true)\n",
      " |-- Longtitude: string (nullable = true)\n",
      " |-- Regionname: string (nullable = true)\n",
      " |-- Propertycount: string (nullable = true)\n",
      "\n"
     ]
    }
   ],
   "source": [
    "df_data.printSchema()"
   ]
  },
  {
   "cell_type": "code",
   "execution_count": 3,
   "metadata": {},
   "outputs": [
    {
     "data": {
      "text/plain": [
       "8577"
      ]
     },
     "execution_count": 3,
     "metadata": {},
     "output_type": "execute_result"
    }
   ],
   "source": [
    "df_data.count()"
   ]
  },
  {
   "cell_type": "code",
   "execution_count": 28,
   "metadata": {},
   "outputs": [
    {
     "name": "stdout",
     "output_type": "stream",
     "text": [
      "+-------+------------------+------------------+------------------+------------------+------------------+-----------------+\n",
      "|summary|          Distance|          Bedroom2|          Bathroom|               Car|          Landsize|     BuildingArea|\n",
      "+-------+------------------+------------------+------------------+------------------+------------------+-----------------+\n",
      "|  count|              8577|              8577|              8577|              8577|              8577|             8577|\n",
      "|   mean|11.288818934359051|3.1192724728926198| 1.658621895767751|1.7098052932260697| 528.8772298006296|153.5990767867553|\n",
      "| stddev| 6.836571004106779|0.9302257752990112|0.7242505221888721|0.9794236482240574|1071.6671390054103|86.37989456829557|\n",
      "|    min|               0.0|               1.0|               1.0|               0.0|               0.0|            100.0|\n",
      "|    max|               9.9|               9.0|               9.0|               9.0|             999.0|             99.5|\n",
      "+-------+------------------+------------------+------------------+------------------+------------------+-----------------+\n",
      "\n"
     ]
    }
   ],
   "source": [
    "df_data.describe('Distance','Bedroom2', 'Bathroom', 'Car', 'Landsize', 'BuildingArea').show()"
   ]
  },
  {
   "cell_type": "code",
   "execution_count": 7,
   "metadata": {},
   "outputs": [
    {
     "data": {
      "text/plain": [
       "DataFrame[_c0: string, Suburb: string, Address: string, Rooms: string, Type: string, Price: string, Method: string, SellerG: string, Date: string, Distance: string, Postcode: string, Bedroom2: string, Bathroom: string, Car: string, Landsize: string, BuildingArea: string, YearBuilt: string, CouncilArea: string, Lattitude: string, Longtitude: string, Regionname: string, Propertycount: string]"
      ]
     },
     "execution_count": 7,
     "metadata": {},
     "output_type": "execute_result"
    }
   ],
   "source": [
    "df_data.cache()"
   ]
  },
  {
   "cell_type": "code",
   "execution_count": 29,
   "metadata": {},
   "outputs": [
    {
     "name": "stdout",
     "output_type": "stream",
     "text": [
      "root\n",
      " |-- _c0: string (nullable = true)\n",
      " |-- Suburb: string (nullable = true)\n",
      " |-- Address: string (nullable = true)\n",
      " |-- Rooms: string (nullable = true)\n",
      " |-- Type: string (nullable = true)\n",
      " |-- Price: double (nullable = true)\n",
      " |-- Method: string (nullable = true)\n",
      " |-- SellerG: string (nullable = true)\n",
      " |-- Date: string (nullable = true)\n",
      " |-- Distance: double (nullable = true)\n",
      " |-- Postcode: string (nullable = true)\n",
      " |-- Bedroom2: double (nullable = true)\n",
      " |-- Bathroom: double (nullable = true)\n",
      " |-- Car: double (nullable = true)\n",
      " |-- Landsize: double (nullable = true)\n",
      " |-- BuildingArea: double (nullable = true)\n",
      " |-- YearBuilt: string (nullable = true)\n",
      " |-- CouncilArea: string (nullable = true)\n",
      " |-- Lattitude: string (nullable = true)\n",
      " |-- Longtitude: string (nullable = true)\n",
      " |-- Regionname: string (nullable = true)\n",
      " |-- Propertycount: string (nullable = true)\n",
      "\n"
     ]
    }
   ],
   "source": [
    "from pyspark.sql.types import DoubleType\n",
    "filtered_typed_df=df_data.withColumn(\"Bedroom2\", df_data[\"Bedroom2\"].cast(\"double\"))\\\n",
    ".withColumn(\"Bathroom\", df_data[\"Bathroom\"].cast(\"double\"))\\\n",
    ".withColumn(\"Car\", df_data[\"Car\"].cast(\"double\"))\\\n",
    ".withColumn(\"Landsize\", df_data[\"Landsize\"].cast(\"double\"))\\\n",
    ".withColumn(\"BuildingArea\", df_data[\"BuildingArea\"].cast(\"double\"))\\\n",
    ".withColumn(\"Price\", df_data[\"Price\"].cast(\"double\"))\\\n",
    ".withColumn(\"Distance\", df_data[\"Distance\"].cast(\"double\"))\n",
    "filtered_typed_df.printSchema()"
   ]
  },
  {
   "cell_type": "code",
   "execution_count": 30,
   "metadata": {},
   "outputs": [
    {
     "name": "stdout",
     "output_type": "stream",
     "text": [
      "+-------+------------------+------------------+------------------+------------------+------------------+-----------------+\n",
      "|summary|          Distance|          Bedroom2|          Bathroom|               Car|          Landsize|     BuildingArea|\n",
      "+-------+------------------+------------------+------------------+------------------+------------------+-----------------+\n",
      "|  count|              8577|              8577|              8577|              8577|              8577|             8577|\n",
      "|   mean|11.288818934359051|3.1192724728926198| 1.658621895767751|1.7098052932260697| 528.8772298006296|153.5990767867553|\n",
      "| stddev| 6.836571004106779|0.9302257752990112|0.7242505221888721|0.9794236482240574|1071.6671390054103|86.37989456829557|\n",
      "|    min|               0.0|               1.0|               1.0|               0.0|               0.0|             50.0|\n",
      "|    max|              47.4|              12.0|               9.0|              10.0|           42800.0|           3112.0|\n",
      "+-------+------------------+------------------+------------------+------------------+------------------+-----------------+\n",
      "\n"
     ]
    }
   ],
   "source": [
    "filtered_typed_df.describe('Distance','Bedroom2', 'Bathroom', 'Car', 'Landsize', 'BuildingArea').show()"
   ]
  },
  {
   "cell_type": "code",
   "execution_count": 31,
   "metadata": {},
   "outputs": [
    {
     "name": "stdout",
     "output_type": "stream",
     "text": [
      "root\n",
      " |-- _c0: string (nullable = true)\n",
      " |-- Suburb: string (nullable = true)\n",
      " |-- Address: string (nullable = true)\n",
      " |-- Rooms: string (nullable = true)\n",
      " |-- Type: string (nullable = true)\n",
      " |-- Price: double (nullable = true)\n",
      " |-- Method: string (nullable = true)\n",
      " |-- SellerG: string (nullable = true)\n",
      " |-- Date: string (nullable = true)\n",
      " |-- Distance: double (nullable = true)\n",
      " |-- Postcode: string (nullable = true)\n",
      " |-- Bedroom2: double (nullable = true)\n",
      " |-- Bathroom: double (nullable = true)\n",
      " |-- Car: double (nullable = true)\n",
      " |-- Landsize: double (nullable = true)\n",
      " |-- BuildingArea: double (nullable = true)\n",
      " |-- YearBuilt: string (nullable = true)\n",
      " |-- CouncilArea: string (nullable = true)\n",
      " |-- Lattitude: string (nullable = true)\n",
      " |-- Longtitude: string (nullable = true)\n",
      " |-- Regionname: string (nullable = true)\n",
      " |-- Propertycount: string (nullable = true)\n",
      " |-- features: vector (nullable = true)\n",
      "\n",
      "+---+----------+---------------+-----+----+---------+------+-------+---------+--------+--------+--------+--------+---+--------+------------+---------+------------------+---------+----------+--------------------+-------------+--------------------+\n",
      "|_c0|    Suburb|        Address|Rooms|Type|    Price|Method|SellerG|     Date|Distance|Postcode|Bedroom2|Bathroom|Car|Landsize|BuildingArea|YearBuilt|       CouncilArea|Lattitude|Longtitude|          Regionname|Propertycount|            features|\n",
      "+---+----------+---------------+-----+----+---------+------+-------+---------+--------+--------+--------+--------+---+--------+------------+---------+------------------+---------+----------+--------------------+-------------+--------------------+\n",
      "|  2|Abbotsford|25 Bloomburg St|    2|   h|1035000.0|     S| Biggin|4/02/2016|     2.5|  3067.0|     2.0|     1.0|0.0|   156.0|        79.0|   1900.0|Yarra City Council| -37.8079|  144.9934|Northern Metropol...|       4019.0|[2.5,2.0,1.0,0.0,...|\n",
      "|  4|Abbotsford|   5 Charles St|    3|   h|1465000.0|    SP| Biggin|4/03/2017|     2.5|  3067.0|     3.0|     2.0|0.0|   134.0|       150.0|   1900.0|Yarra City Council| -37.8093|  144.9944|Northern Metropol...|       4019.0|[2.5,3.0,2.0,0.0,...|\n",
      "|  6|Abbotsford|    55a Park St|    4|   h|1600000.0|    VB| Nelson|4/06/2016|     2.5|  3067.0|     3.0|     1.0|2.0|   120.0|       142.0|   2014.0|Yarra City Council| -37.8072|  144.9941|Northern Metropol...|       4019.0|[2.5,3.0,1.0,2.0,...|\n",
      "| 11|Abbotsford|   124 Yarra St|    3|   h|1876000.0|     S| Nelson|7/05/2016|     2.5|  3067.0|     4.0|     2.0|0.0|   245.0|       210.0|   1910.0|Yarra City Council| -37.8024|  144.9993|Northern Metropol...|       4019.0|[2.5,4.0,2.0,0.0,...|\n",
      "| 14|Abbotsford|  98 Charles St|    2|   h|1636000.0|     S| Nelson|8/10/2016|     2.5|  3067.0|     2.0|     1.0|2.0|   256.0|       107.0|   1890.0|Yarra City Council|  -37.806|  144.9954|Northern Metropol...|       4019.0|[2.5,2.0,1.0,2.0,...|\n",
      "+---+----------+---------------+-----+----+---------+------+-------+---------+--------+--------+--------+--------+---+--------+------------+---------+------------------+---------+----------+--------------------+-------------+--------------------+\n",
      "only showing top 5 rows\n",
      "\n"
     ]
    }
   ],
   "source": [
    "from pyspark.ml.feature import VectorAssembler\n",
    "#put together the relevant elements in a vector\n",
    "assembler1 = VectorAssembler(inputCols=['Distance', 'Bedroom2', 'Bathroom', 'Car', 'Landsize', 'BuildingArea'], \n",
    "                             outputCol='features')\n",
    "#add the vector as an additional column\n",
    "filtered_features_df = assembler1.transform(filtered_typed_df)\n",
    "filtered_features_df.printSchema()\n",
    "filtered_features_df.show(5) "
   ]
  },
  {
   "cell_type": "code",
   "execution_count": 32,
   "metadata": {},
   "outputs": [
    {
     "name": "stdout",
     "output_type": "stream",
     "text": [
      "root\n",
      " |-- _c0: string (nullable = true)\n",
      " |-- Suburb: string (nullable = true)\n",
      " |-- Address: string (nullable = true)\n",
      " |-- Rooms: string (nullable = true)\n",
      " |-- Type: string (nullable = true)\n",
      " |-- Price: double (nullable = true)\n",
      " |-- Method: string (nullable = true)\n",
      " |-- SellerG: string (nullable = true)\n",
      " |-- Date: string (nullable = true)\n",
      " |-- Distance: double (nullable = true)\n",
      " |-- Postcode: string (nullable = true)\n",
      " |-- Bedroom2: double (nullable = true)\n",
      " |-- Bathroom: double (nullable = true)\n",
      " |-- Car: double (nullable = true)\n",
      " |-- Landsize: double (nullable = true)\n",
      " |-- BuildingArea: double (nullable = true)\n",
      " |-- YearBuilt: string (nullable = true)\n",
      " |-- CouncilArea: string (nullable = true)\n",
      " |-- Lattitude: string (nullable = true)\n",
      " |-- Longtitude: string (nullable = true)\n",
      " |-- Regionname: string (nullable = true)\n",
      " |-- Propertycount: string (nullable = true)\n",
      " |-- features: vector (nullable = true)\n",
      " |-- scaled_features: vector (nullable = true)\n",
      "\n",
      "+--------------------+--------------------+\n",
      "|            features|     scaled_features|\n",
      "+--------------------+--------------------+\n",
      "|[2.5,2.0,1.0,0.0,...|[0.36568039716083...|\n",
      "|[2.5,3.0,2.0,0.0,...|[0.36568039716083...|\n",
      "|[2.5,3.0,1.0,2.0,...|[0.36568039716083...|\n",
      "|[2.5,4.0,2.0,0.0,...|[0.36568039716083...|\n",
      "|[2.5,2.0,1.0,2.0,...|[0.36568039716083...|\n",
      "|[2.5,3.0,1.0,2.0,...|[0.36568039716083...|\n",
      "|[2.5,3.0,2.0,2.0,...|[0.36568039716083...|\n",
      "|[2.5,2.0,2.0,1.0,...|[0.36568039716083...|\n",
      "|[2.5,2.0,1.0,2.0,...|[0.36568039716083...|\n",
      "|[2.5,3.0,2.0,1.0,...|[0.36568039716083...|\n",
      "|[2.5,2.0,1.0,1.0,...|[0.36568039716083...|\n",
      "|[2.5,2.0,1.0,1.0,...|[0.36568039716083...|\n",
      "|[2.5,4.0,2.0,2.0,...|[0.36568039716083...|\n",
      "|[2.5,2.0,1.0,1.0,...|[0.36568039716083...|\n",
      "|[2.5,2.0,2.0,1.0,...|[0.36568039716083...|\n",
      "|[2.5,2.0,1.0,0.0,...|[0.36568039716083...|\n",
      "|[2.5,3.0,3.0,1.0,...|[0.36568039716083...|\n",
      "|[2.5,2.0,2.0,2.0,...|[0.36568039716083...|\n",
      "|[2.5,3.0,1.0,1.0,...|[0.36568039716083...|\n",
      "|[2.5,1.0,1.0,1.0,...|[0.36568039716083...|\n",
      "+--------------------+--------------------+\n",
      "only showing top 20 rows\n",
      "\n"
     ]
    }
   ],
   "source": [
    "#we need to scale all the features to avoid having instability. It considers mean and std\n",
    "from pyspark.ml.feature import StandardScaler\n",
    "#indicate which column you want to scale\n",
    "scaler1 = StandardScaler(inputCol=\"features\", outputCol=\"scaled_features\")\n",
    "\n",
    "# Compute summary statistics and generate StandardScalerModel \n",
    "scaler_model1 = scaler1.fit(filtered_features_df)\n",
    "\n",
    "# rescale each feature\n",
    "scaled_data_df = scaler_model1.transform(filtered_features_df)\n",
    "\n",
    "scaled_data_df.printSchema()\n",
    "\n",
    "scaled_data_df.select(\"features\", \"scaled_features\").show()"
   ]
  },
  {
   "cell_type": "code",
   "execution_count": 33,
   "metadata": {},
   "outputs": [
    {
     "name": "stdout",
     "output_type": "stream",
     "text": [
      "+-----+-------------+----------------+-----+----+---------+------+-------------+----------+--------+--------+--------+--------+---+--------+------------+---------+--------------------+---------+----------+--------------------+-------------+--------------------+--------------------+\n",
      "|  _c0|       Suburb|         Address|Rooms|Type|    Price|Method|      SellerG|      Date|Distance|Postcode|Bedroom2|Bathroom|Car|Landsize|BuildingArea|YearBuilt|         CouncilArea|Lattitude|Longtitude|          Regionname|Propertycount|            features|     scaled_features|\n",
      "+-----+-------------+----------------+-----+----+---------+------+-------------+----------+--------+--------+--------+--------+---+--------+------------+---------+--------------------+---------+----------+--------------------+-------------+--------------------+--------------------+\n",
      "| 1001|       Balwyn|3/12 Brenbeal St|    2|   u| 730000.0|     S|hockingstuart|28/08/2016|     9.7|  3103.0|     2.0|     1.0|1.0|   130.0|        80.0|   1960.0|Boroondara City C...|  -37.812|  145.0876|Southern Metropol...|       5682.0|[9.7,2.0,1.0,1.0,...|[1.41883994098402...|\n",
      "|10011|Sunshine West|   25 The Avenue|    3|   h| 750500.0|     S|          Jas|28/08/2016|    13.5|  3020.0|     3.0|     2.0|6.0|   805.0|       181.0|   1995.0|Brimbank City Cou...| -37.7966|  144.7928|Western Metropolitan|       6763.0|[13.5,3.0,2.0,6.0...|[1.97467414466849...|\n",
      "|10012|Sunshine West|49 Warmington Rd|    3|   h| 451000.0|     S|      Douglas|30/07/2016|    13.5|  3020.0|     3.0|     1.0|6.0|   655.0|       146.0|   1978.0|Brimbank City Cou...| -37.8022|  144.8235|Western Metropolitan|       6763.0|[13.5,3.0,1.0,6.0...|[1.97467414466849...|\n",
      "|10013| Surrey Hills|    36 Banool Rd|    4|   h|2440000.0|     S|     Marshall| 3/09/2016|    11.2|  3127.0|     4.0|     3.0|2.0|   596.0|       264.0|   1930.0|Boroondara City C...| -37.8154|  145.0927|Southern Metropol...|       5457.0|[11.2,4.0,3.0,2.0...|[1.63824817928052...|\n",
      "|10014| Surrey Hills|2/33 Chestnut St|    3|   t|1110000.0|     S|    Fletchers| 3/09/2016|    11.2|  3127.0|     4.0|     2.0|2.0|   401.0|       129.0|   1970.0|Boroondara City C...| -37.8332|  145.1105|Southern Metropol...|       5457.0|[11.2,4.0,2.0,2.0...|[1.63824817928052...|\n",
      "+-----+-------------+----------------+-----+----+---------+------+-------------+----------+--------+--------+--------+--------+---+--------+------------+---------+--------------------+---------+----------+--------------------+-------------+--------------------+--------------------+\n",
      "only showing top 5 rows\n",
      "\n"
     ]
    }
   ],
   "source": [
    "#now we have a proper dataset to use for building the model\n",
    "#extract a trainig set and test set from the dataset randomly (80% training and 20% test)\n",
    "training_data_df, testing_data_df = scaled_data_df.randomSplit([.8,.2],seed=1234)\n",
    "training_data_df.show(5)"
   ]
  },
  {
   "cell_type": "code",
   "execution_count": 34,
   "metadata": {},
   "outputs": [
    {
     "name": "stdout",
     "output_type": "stream",
     "text": [
      "+-----+-------------+-----------------+-----+----+---------+------+--------+----------+--------+--------+--------+--------+---+--------+------------+---------+--------------------+---------+----------+--------------------+-------------+--------------------+--------------------+\n",
      "|  _c0|       Suburb|          Address|Rooms|Type|    Price|Method| SellerG|      Date|Distance|Postcode|Bedroom2|Bathroom|Car|Landsize|BuildingArea|YearBuilt|         CouncilArea|Lattitude|Longtitude|          Regionname|Propertycount|            features|     scaled_features|\n",
      "+-----+-------------+-----------------+-----+----+---------+------+--------+----------+--------+--------+--------+--------+---+--------+------------+---------+--------------------+---------+----------+--------------------+-------------+--------------------+--------------------+\n",
      "|  100| Airport West|     180 Parer Rd|    3|   h| 830000.0|     S|   Barry|16/04/2016|    13.5|  3042.0|     3.0|     1.0|2.0|   971.0|       113.0|   1960.0|Moonee Valley Cit...| -37.7186|   144.876|Western Metropolitan|       3464.0|[13.5,3.0,1.0,2.0...|[1.97467414466849...|\n",
      "|10002|Sunshine West| 57 Warmington Rd|    3|   h| 500000.0|    SP|   Barry|27/11/2016|    13.5|  3020.0|     3.0|     1.0|2.0|   627.0|       109.0|   1970.0|Brimbank City Cou...| -37.8023|  144.8227|Western Metropolitan|       6763.0|[13.5,3.0,1.0,2.0...|[1.97467414466849...|\n",
      "|10003|Sunshine West| 2/42 Bardsley St|    3|   t| 510000.0|    SP|   Barry|28/05/2016|    13.5|  3020.0|     3.0|     2.0|1.0|   333.0|       141.0|   2012.0|Brimbank City Cou...| -37.7912|  144.8215|Western Metropolitan|       6763.0|[13.5,3.0,2.0,1.0...|[1.97467414466849...|\n",
      "|10034| Surrey Hills|     22b Essex Rd|    4|   h|2200000.0|     S|  Jellis| 7/05/2016|    11.2|  3127.0|     4.0|     2.0|2.0|   734.0|       272.0|   1920.0|Boroondara City C...| -37.8286|   145.092|Southern Metropol...|       5457.0|[11.2,4.0,2.0,2.0...|[1.63824817928052...|\n",
      "|10068| Surrey Hills|2/23 Broughton Rd|    2|   u| 610000.0|    PI|Marshall|15/10/2016|    11.2|  3127.0|     2.0|     1.0|1.0|   102.0|        78.0|   1970.0|Boroondara City C...| -37.8288|  145.1048|Southern Metropol...|       5457.0|[11.2,2.0,1.0,1.0...|[1.63824817928052...|\n",
      "+-----+-------------+-----------------+-----+----+---------+------+--------+----------+--------+--------+--------+--------+---+--------+------------+---------+--------------------+---------+----------+--------------------+-------------+--------------------+--------------------+\n",
      "only showing top 5 rows\n",
      "\n"
     ]
    }
   ],
   "source": [
    "testing_data_df.show(5)"
   ]
  },
  {
   "cell_type": "code",
   "execution_count": 35,
   "metadata": {},
   "outputs": [
    {
     "name": "stdout",
     "output_type": "stream",
     "text": [
      "Coefficients: [-262165.7608028521,150973.0771698868,86240.48713542748,24728.86197643539,27922.48839538722,256043.44064674916]\n",
      "Intercept: 324053.2853304953\n"
     ]
    }
   ],
   "source": [
    "#run linear regression on the training set to learn the model\n",
    "from  pyspark.ml.regression import LinearRegression\n",
    "#run training specifying the features to use and the label - we want to predict the price from beds, baths, and sq_ft\n",
    "lr = LinearRegression(featuresCol = 'scaled_features', labelCol = 'Price')\n",
    "#lr = LinearRegression(featuresCol = 'features', labelCol = 'price')\n",
    "\n",
    "# Fit the model\n",
    "lr_model = lr.fit(training_data_df)\n",
    "print(\"Coefficients: %s\" % str(lr_model.coefficients))\n",
    "print(\"Intercept: %s\" % str(lr_model.intercept))"
   ]
  },
  {
   "cell_type": "code",
   "execution_count": 36,
   "metadata": {},
   "outputs": [
    {
     "name": "stdout",
     "output_type": "stream",
     "text": [
      "RMSE: 503872.440720\n"
     ]
    }
   ],
   "source": [
    "# Summarize the model over the training set and print out some metrics\n",
    "training_summary = lr_model.summary\n",
    "print(\"RMSE: %f\" % training_summary.rootMeanSquaredError)"
   ]
  },
  {
   "cell_type": "code",
   "execution_count": 37,
   "metadata": {},
   "outputs": [
    {
     "name": "stdout",
     "output_type": "stream",
     "text": [
      "root\n",
      " |-- _c0: string (nullable = true)\n",
      " |-- Suburb: string (nullable = true)\n",
      " |-- Address: string (nullable = true)\n",
      " |-- Rooms: string (nullable = true)\n",
      " |-- Type: string (nullable = true)\n",
      " |-- Price: double (nullable = true)\n",
      " |-- Method: string (nullable = true)\n",
      " |-- SellerG: string (nullable = true)\n",
      " |-- Date: string (nullable = true)\n",
      " |-- Distance: double (nullable = true)\n",
      " |-- Postcode: string (nullable = true)\n",
      " |-- Bedroom2: double (nullable = true)\n",
      " |-- Bathroom: double (nullable = true)\n",
      " |-- Car: double (nullable = true)\n",
      " |-- Landsize: double (nullable = true)\n",
      " |-- BuildingArea: double (nullable = true)\n",
      " |-- YearBuilt: string (nullable = true)\n",
      " |-- CouncilArea: string (nullable = true)\n",
      " |-- Lattitude: string (nullable = true)\n",
      " |-- Longtitude: string (nullable = true)\n",
      " |-- Regionname: string (nullable = true)\n",
      " |-- Propertycount: string (nullable = true)\n",
      " |-- features: vector (nullable = true)\n",
      " |-- scaled_features: vector (nullable = true)\n",
      " |-- prediction: double (nullable = false)\n",
      "\n",
      "+--------+--------+--------+---+--------+------------+---------+------------------+\n",
      "|Distance|Bedroom2|Bathroom|Car|Landsize|BuildingArea|    Price|        prediction|\n",
      "+--------+--------+--------+---+--------+------------+---------+------------------+\n",
      "|    13.5|     3.0|     1.0|2.0|   971.0|       113.0| 830000.0|  823074.474969371|\n",
      "|    13.5|     3.0|     1.0|2.0|   627.0|       109.0| 500000.0| 802254.8683712224|\n",
      "|    13.5|     3.0|     2.0|1.0|   333.0|       141.0| 510000.0|   983274.72987182|\n",
      "|    11.2|     4.0|     2.0|2.0|   734.0|       272.0|2200000.0|1657772.2243262155|\n",
      "|    11.2|     2.0|     1.0|1.0|   102.0|        78.0| 610000.0|  597340.820230752|\n",
      "|    11.2|     5.0|     2.0|2.0|   612.0|       292.0|1850000.0|1876173.8430390526|\n",
      "|    11.2|     3.0|     2.0|1.0|   247.0|       145.0|1150000.0| 1081089.974954146|\n",
      "|     9.2|     3.0|     2.0|2.0|   260.0|       167.0|1315000.0|1248583.5988497015|\n",
      "|    11.2|     3.0|     2.0|1.0|   735.0|       219.0|2300000.0|1313152.4144418868|\n",
      "|    11.2|     3.0|     1.0|2.0|   441.0|       128.0|2180000.0| 941926.9273757355|\n",
      "+--------+--------+--------+---+--------+------------+---------+------------------+\n",
      "only showing top 10 rows\n",
      "\n"
     ]
    }
   ],
   "source": [
    "#evaluate the model on the test set\n",
    "testing_summary = lr_model.evaluate(testing_data_df)\n",
    "testing_summary.predictions.printSchema()\n",
    "testing_summary.predictions.select('Distance', 'Bedroom2', 'Bathroom', 'Car', 'Landsize', 'BuildingArea','Price','prediction').show(10)"
   ]
  },
  {
   "cell_type": "code",
   "execution_count": null,
   "metadata": {},
   "outputs": [],
   "source": []
  }
 ],
 "metadata": {
  "kernelspec": {
   "display_name": "Pyspark (Py3)",
   "language": "",
   "name": "pyspark"
  },
  "language_info": {
   "codemirror_mode": {
    "name": "ipython",
    "version": 3
   },
   "file_extension": ".py",
   "mimetype": "text/x-python",
   "name": "python",
   "nbconvert_exporter": "python",
   "pygments_lexer": "ipython3",
   "version": "3.6.7"
  }
 },
 "nbformat": 4,
 "nbformat_minor": 2
}
