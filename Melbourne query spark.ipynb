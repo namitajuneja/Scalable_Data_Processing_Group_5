{
 "cells": [
  {
   "cell_type": "code",
   "execution_count": 1,
   "metadata": {},
   "outputs": [],
   "source": [
    "#LOADING THE DATASET"
   ]
  },
  {
   "cell_type": "code",
   "execution_count": 2,
   "metadata": {},
   "outputs": [],
   "source": [
    "df = spark.read.format(\"org.apache.spark.sql.execution.datasources.csv.CSVFileFormat\").option(\"header\", \"true\").load(\"Melbourne.csv\")"
   ]
  },
  {
   "cell_type": "code",
   "execution_count": 3,
   "metadata": {},
   "outputs": [],
   "source": [
    "#SHOWING THE FIRST 5 ROWS OF THE DATASET"
   ]
  },
  {
   "cell_type": "code",
   "execution_count": 4,
   "metadata": {},
   "outputs": [
    {
     "data": {
      "text/plain": [
       "[Row(_c0='2', Suburb='Abbotsford', Address='25 Bloomburg St', Rooms='2', Type='h', Price='1035000.0', Method='S', SellerG='Biggin', Date='4/02/2016', Distance='2.5', Postcode='3067.0', Bedroom2='2.0', Bathroom='1.0', Car='0.0', Landsize='156.0', BuildingArea='79.0', YearBuilt='1900.0', CouncilArea='Yarra City Council', Lattitude='-37.8079', Longtitude='144.9934', Regionname='Northern Metropolitan', Propertycount='4019.0'),\n",
       " Row(_c0='4', Suburb='Abbotsford', Address='5 Charles St', Rooms='3', Type='h', Price='1465000.0', Method='SP', SellerG='Biggin', Date='4/03/2017', Distance='2.5', Postcode='3067.0', Bedroom2='3.0', Bathroom='2.0', Car='0.0', Landsize='134.0', BuildingArea='150.0', YearBuilt='1900.0', CouncilArea='Yarra City Council', Lattitude='-37.8093', Longtitude='144.9944', Regionname='Northern Metropolitan', Propertycount='4019.0'),\n",
       " Row(_c0='6', Suburb='Abbotsford', Address='55a Park St', Rooms='4', Type='h', Price='1600000.0', Method='VB', SellerG='Nelson', Date='4/06/2016', Distance='2.5', Postcode='3067.0', Bedroom2='3.0', Bathroom='1.0', Car='2.0', Landsize='120.0', BuildingArea='142.0', YearBuilt='2014.0', CouncilArea='Yarra City Council', Lattitude='-37.8072', Longtitude='144.9941', Regionname='Northern Metropolitan', Propertycount='4019.0'),\n",
       " Row(_c0='11', Suburb='Abbotsford', Address='124 Yarra St', Rooms='3', Type='h', Price='1876000.0', Method='S', SellerG='Nelson', Date='7/05/2016', Distance='2.5', Postcode='3067.0', Bedroom2='4.0', Bathroom='2.0', Car='0.0', Landsize='245.0', BuildingArea='210.0', YearBuilt='1910.0', CouncilArea='Yarra City Council', Lattitude='-37.8024', Longtitude='144.9993', Regionname='Northern Metropolitan', Propertycount='4019.0'),\n",
       " Row(_c0='14', Suburb='Abbotsford', Address='98 Charles St', Rooms='2', Type='h', Price='1636000.0', Method='S', SellerG='Nelson', Date='8/10/2016', Distance='2.5', Postcode='3067.0', Bedroom2='2.0', Bathroom='1.0', Car='2.0', Landsize='256.0', BuildingArea='107.0', YearBuilt='1890.0', CouncilArea='Yarra City Council', Lattitude='-37.806', Longtitude='144.9954', Regionname='Northern Metropolitan', Propertycount='4019.0')]"
      ]
     },
     "execution_count": 4,
     "metadata": {},
     "output_type": "execute_result"
    }
   ],
   "source": [
    "df.take(5)"
   ]
  },
  {
   "cell_type": "code",
   "execution_count": 5,
   "metadata": {},
   "outputs": [],
   "source": [
    "#SHOWING THE SCHEMA OF THE DATASET"
   ]
  },
  {
   "cell_type": "code",
   "execution_count": 6,
   "metadata": {},
   "outputs": [
    {
     "name": "stdout",
     "output_type": "stream",
     "text": [
      "root\n",
      " |-- _c0: string (nullable = true)\n",
      " |-- Suburb: string (nullable = true)\n",
      " |-- Address: string (nullable = true)\n",
      " |-- Rooms: string (nullable = true)\n",
      " |-- Type: string (nullable = true)\n",
      " |-- Price: string (nullable = true)\n",
      " |-- Method: string (nullable = true)\n",
      " |-- SellerG: string (nullable = true)\n",
      " |-- Date: string (nullable = true)\n",
      " |-- Distance: string (nullable = true)\n",
      " |-- Postcode: string (nullable = true)\n",
      " |-- Bedroom2: string (nullable = true)\n",
      " |-- Bathroom: string (nullable = true)\n",
      " |-- Car: string (nullable = true)\n",
      " |-- Landsize: string (nullable = true)\n",
      " |-- BuildingArea: string (nullable = true)\n",
      " |-- YearBuilt: string (nullable = true)\n",
      " |-- CouncilArea: string (nullable = true)\n",
      " |-- Lattitude: string (nullable = true)\n",
      " |-- Longtitude: string (nullable = true)\n",
      " |-- Regionname: string (nullable = true)\n",
      " |-- Propertycount: string (nullable = true)\n",
      "\n"
     ]
    }
   ],
   "source": [
    "df.printSchema()"
   ]
  },
  {
   "cell_type": "code",
   "execution_count": 7,
   "metadata": {},
   "outputs": [],
   "source": [
    "from pyspark.sql.types import DoubleType"
   ]
  },
  {
   "cell_type": "code",
   "execution_count": 8,
   "metadata": {},
   "outputs": [
    {
     "name": "stdout",
     "output_type": "stream",
     "text": [
      "root\n",
      " |-- _c0: string (nullable = true)\n",
      " |-- Suburb: string (nullable = true)\n",
      " |-- Address: string (nullable = true)\n",
      " |-- Rooms: double (nullable = true)\n",
      " |-- Type: string (nullable = true)\n",
      " |-- Price: double (nullable = true)\n",
      " |-- Method: string (nullable = true)\n",
      " |-- SellerG: string (nullable = true)\n",
      " |-- Date: string (nullable = true)\n",
      " |-- Distance: double (nullable = true)\n",
      " |-- Postcode: string (nullable = true)\n",
      " |-- Bedroom2: double (nullable = true)\n",
      " |-- Bathroom: double (nullable = true)\n",
      " |-- Car: double (nullable = true)\n",
      " |-- Landsize: double (nullable = true)\n",
      " |-- BuildingArea: double (nullable = true)\n",
      " |-- YearBuilt: string (nullable = true)\n",
      " |-- CouncilArea: string (nullable = true)\n",
      " |-- Lattitude: string (nullable = true)\n",
      " |-- Longtitude: string (nullable = true)\n",
      " |-- Regionname: string (nullable = true)\n",
      " |-- Propertycount: string (nullable = true)\n",
      "\n"
     ]
    }
   ],
   "source": [
    "df1=df.withColumn(\"Bedroom2\", df[\"Bedroom2\"].cast(\"double\"))\\\n",
    ".withColumn(\"Bathroom\", df[\"Bathroom\"].cast(\"double\"))\\\n",
    ".withColumn(\"Car\", df[\"Car\"].cast(\"double\"))\\\n",
    ".withColumn(\"Landsize\", df[\"Landsize\"].cast(\"double\"))\\\n",
    ".withColumn(\"BuildingArea\", df[\"BuildingArea\"].cast(\"double\"))\\\n",
    ".withColumn(\"Price\", df[\"Price\"].cast(\"double\"))\\\n",
    ".withColumn(\"Distance\", df[\"Distance\"].cast(\"double\"))\\\n",
    ".withColumn(\"Rooms\", df[\"Rooms\"].cast(\"double\"))\n",
    "df1.printSchema()"
   ]
  },
  {
   "cell_type": "code",
   "execution_count": 9,
   "metadata": {},
   "outputs": [],
   "source": [
    "from pyspark.sql.functions import max\n",
    "from pyspark.sql.functions import min\n",
    "from pyspark.sql.functions import desc \n",
    "from pyspark.sql.functions import asc "
   ]
  },
  {
   "cell_type": "code",
   "execution_count": 10,
   "metadata": {},
   "outputs": [
    {
     "name": "stdout",
     "output_type": "stream",
     "text": [
      "+-------+------------------+------------------+-----------------+\n",
      "|summary|             Rooms|          Landsize|     BuildingArea|\n",
      "+-------+------------------+------------------+-----------------+\n",
      "|  count|              8577|              8577|             8577|\n",
      "|   mean|3.1394426955812054| 528.8772298006296|153.5990767867553|\n",
      "| stddev| 0.929112136872094|1071.6671390054103|86.37989456829557|\n",
      "|    min|               1.0|               0.0|             50.0|\n",
      "|    max|              12.0|           42800.0|           3112.0|\n",
      "+-------+------------------+------------------+-----------------+\n",
      "\n"
     ]
    }
   ],
   "source": [
    "df1.describe('Rooms', 'Landsize', 'BuildingArea').show()"
   ]
  },
  {
   "cell_type": "code",
   "execution_count": 11,
   "metadata": {},
   "outputs": [
    {
     "name": "stdout",
     "output_type": "stream",
     "text": [
      "+----------+\n",
      "|max(price)|\n",
      "+----------+\n",
      "| 9000000.0|\n",
      "+----------+\n",
      "\n"
     ]
    }
   ],
   "source": [
    "df1.select(max(\"price\")).show()"
   ]
  },
  {
   "cell_type": "code",
   "execution_count": 12,
   "metadata": {},
   "outputs": [
    {
     "name": "stdout",
     "output_type": "stream",
     "text": [
      "+-----+--------+-----------+-----+----+---------+------+-------+----------+--------+--------+--------+--------+---+--------+------------+---------+-------------------+---------+----------+--------------------+-------------+\n",
      "|  _c0|  Suburb|    Address|Rooms|Type|    Price|Method|SellerG|      Date|Distance|Postcode|Bedroom2|Bathroom|Car|Landsize|BuildingArea|YearBuilt|        CouncilArea|Lattitude|Longtitude|          Regionname|Propertycount|\n",
      "+-----+--------+-----------+-----+----+---------+------+-------+----------+--------+--------+--------+--------+---+--------+------------+---------+-------------------+---------+----------+--------------------+-------------+\n",
      "|19583|Mulgrave|35 Bevis St|  3.0|   h|9000000.0|    PI|   Hall|29/07/2017|    18.8|  3170.0|     3.0|     1.0|1.0|   744.0|       117.0|   1960.0|Monash City Council|-37.93168| 145.16126|South-Eastern Met...|       7113.0|\n",
      "+-----+--------+-----------+-----+----+---------+------+-------+----------+--------+--------+--------+--------+---+--------+------------+---------+-------------------+---------+----------+--------------------+-------------+\n",
      "\n"
     ]
    }
   ],
   "source": [
    "df1.filter(\"price == 9000000\").show()"
   ]
  },
  {
   "cell_type": "code",
   "execution_count": 13,
   "metadata": {},
   "outputs": [
    {
     "name": "stdout",
     "output_type": "stream",
     "text": [
      "+----------+\n",
      "|min(price)|\n",
      "+----------+\n",
      "|  131000.0|\n",
      "+----------+\n",
      "\n"
     ]
    }
   ],
   "source": [
    "df1.select(min(\"price\")).show()"
   ]
  },
  {
   "cell_type": "code",
   "execution_count": 14,
   "metadata": {},
   "outputs": [
    {
     "name": "stdout",
     "output_type": "stream",
     "text": [
      "+----+---------+----------+-----+----+--------+------+-------+----------+--------+--------+--------+--------+---+--------+------------+---------+--------------------+---------+----------+--------------------+-------------+\n",
      "| _c0|   Suburb|   Address|Rooms|Type|   Price|Method|SellerG|      Date|Distance|Postcode|Bedroom2|Bathroom|Car|Landsize|BuildingArea|YearBuilt|         CouncilArea|Lattitude|Longtitude|          Regionname|Propertycount|\n",
      "+----+---------+----------+-----+----+--------+------+-------+----------+--------+--------+--------+--------+---+--------+------------+---------+--------------------+---------+----------+--------------------+-------------+\n",
      "|3063|Caulfield|30 Pyne St|  4.0|   h|131000.0|    PI| Rodney|25/02/2017|     8.9|  3162.0|     4.0|     1.0|2.0|   499.0|       155.0|   1920.0|Glen Eira City Co...| -37.8864|  145.0242|Southern Metropol...|       2379.0|\n",
      "+----+---------+----------+-----+----+--------+------+-------+----------+--------+--------+--------+--------+---+--------+------------+---------+--------------------+---------+----------+--------------------+-------------+\n",
      "\n"
     ]
    }
   ],
   "source": [
    "df1.filter(\"price == 131000\").show()"
   ]
  },
  {
   "cell_type": "code",
   "execution_count": 15,
   "metadata": {},
   "outputs": [],
   "source": [
    "#what are the most expensive suburbs?"
   ]
  },
  {
   "cell_type": "code",
   "execution_count": 16,
   "metadata": {},
   "outputs": [
    {
     "name": "stdout",
     "output_type": "stream",
     "text": [
      "+-----------+------------------+\n",
      "|     Suburb|     Average Price|\n",
      "+-----------+------------------+\n",
      "|    Kooyong|         3080000.0|\n",
      "|Middle Park|2665115.3846153845|\n",
      "| Canterbury| 2467462.962962963|\n",
      "|   Deepdene|         2380000.0|\n",
      "|    Malvern|2325583.3333333335|\n",
      "+-----------+------------------+\n",
      "only showing top 5 rows\n",
      "\n"
     ]
    }
   ],
   "source": [
    "df1.groupBy(\"Suburb\").mean(\"Price\").withColumnRenamed(\"avg(Price)\", \"Average Price\").sort(desc(\"Average Price\")).show(5)"
   ]
  },
  {
   "cell_type": "code",
   "execution_count": 17,
   "metadata": {},
   "outputs": [],
   "source": [
    "#what are the cheapest suburbs?"
   ]
  },
  {
   "cell_type": "code",
   "execution_count": 18,
   "metadata": {},
   "outputs": [
    {
     "name": "stdout",
     "output_type": "stream",
     "text": [
      "+-------------+-----------------+\n",
      "|       Suburb|    Average Price|\n",
      "+-------------+-----------------+\n",
      "|    Kurunjang|         403000.0|\n",
      "|Bacchus Marsh|         412000.0|\n",
      "|       Wallan|         422750.0|\n",
      "| Melton South|447583.3333333333|\n",
      "|       Melton|449233.3333333333|\n",
      "+-------------+-----------------+\n",
      "only showing top 5 rows\n",
      "\n"
     ]
    }
   ],
   "source": [
    "df1.groupBy(\"Suburb\").mean(\"Price\").withColumnRenamed(\"avg(Price)\", \"Average Price\").sort((\"Average Price\")).show(5)"
   ]
  },
  {
   "cell_type": "code",
   "execution_count": 19,
   "metadata": {},
   "outputs": [],
   "source": [
    "#top 5 sellers in terms of average price of houses sold"
   ]
  },
  {
   "cell_type": "code",
   "execution_count": 20,
   "metadata": {},
   "outputs": [
    {
     "name": "stdout",
     "output_type": "stream",
     "text": [
      "+---------+------------------+\n",
      "|  SellerG|     Average Price|\n",
      "+---------+------------------+\n",
      "|Sotheby's|         4241250.0|\n",
      "|     Hall|3501666.6666666665|\n",
      "|   Assisi|         3360000.0|\n",
      "|    Weast|         3320000.0|\n",
      "|  VICProp|         3056000.0|\n",
      "+---------+------------------+\n",
      "only showing top 5 rows\n",
      "\n"
     ]
    }
   ],
   "source": [
    "df1.groupBy(\"SellerG\").mean(\"Price\").withColumnRenamed(\"avg(Price)\", \"Average Price\").sort(desc(\"Average Price\")).show(5)"
   ]
  },
  {
   "cell_type": "code",
   "execution_count": 32,
   "metadata": {},
   "outputs": [],
   "source": [
    "#houses sold by top 5 sellers"
   ]
  },
  {
   "cell_type": "code",
   "execution_count": 31,
   "metadata": {},
   "outputs": [
    {
     "name": "stdout",
     "output_type": "stream",
     "text": [
      "+-------------+-----+\n",
      "|      SellerG|count|\n",
      "+-------------+-----+\n",
      "|       Nelson|  971|\n",
      "|       Jellis|  843|\n",
      "|        Barry|  728|\n",
      "|hockingstuart|  639|\n",
      "|          Ray|  495|\n",
      "+-------------+-----+\n",
      "only showing top 5 rows\n",
      "\n"
     ]
    }
   ],
   "source": [
    "df1.groupBy(\"SellerG\").count().sort(desc(\"count\")).show(5)"
   ]
  },
  {
   "cell_type": "code",
   "execution_count": 21,
   "metadata": {},
   "outputs": [
    {
     "name": "stdout",
     "output_type": "stream",
     "text": [
      "+---------------+------------------+----------------------+---------------------------+-------------------------+\n",
      "|         Suburb|   Avg n. of Rooms|Avg landsize in meters|Avg Building size in meters|Avg distance from the CBD|\n",
      "+---------------+------------------+----------------------+---------------------------+-------------------------+\n",
      "| Brunswick West| 2.869565217391304|      347.536231884058|          126.1304347826087|        5.686956521739128|\n",
      "|South Melbourne| 2.727272727272727|    159.79545454545453|         124.08204545454545|        2.045454545454547|\n",
      "|   Ivanhoe East|3.6666666666666665|                 875.0|                      230.6|                     8.68|\n",
      "|   Princes Hill|               3.0|    217.66666666666666|                      154.0|       3.5666666666666664|\n",
      "|     Cranbourne|               4.5|                2368.0|                      202.0|                     34.7|\n",
      "+---------------+------------------+----------------------+---------------------------+-------------------------+\n",
      "only showing top 5 rows\n",
      "\n"
     ]
    }
   ],
   "source": [
    "df1.groupBy(\"Suburb\").mean(\"Rooms\",'Landsize', \"BuildingArea\", \"Distance\").\\\n",
    "withColumnRenamed(\"avg(Rooms)\", \"Avg n. of Rooms\").\\\n",
    "withColumnRenamed(\"avg(Landsize)\", \"Avg landsize in meters\").\\\n",
    "withColumnRenamed(\"avg(BuildingArea)\", \"Avg Building size in meters\").\\\n",
    "withColumnRenamed(\"avg(Distance)\", \"Avg distance from the CBD\").show(5)"
   ]
  },
  {
   "cell_type": "code",
   "execution_count": null,
   "metadata": {},
   "outputs": [],
   "source": []
  },
  {
   "cell_type": "code",
   "execution_count": null,
   "metadata": {},
   "outputs": [],
   "source": []
  }
 ],
 "metadata": {
  "kernelspec": {
   "display_name": "Pyspark (Py3)",
   "language": "",
   "name": "pyspark"
  },
  "language_info": {
   "codemirror_mode": {
    "name": "ipython",
    "version": 3
   },
   "file_extension": ".py",
   "mimetype": "text/x-python",
   "name": "python",
   "nbconvert_exporter": "python",
   "pygments_lexer": "ipython3",
   "version": "3.6.7"
  }
 },
 "nbformat": 4,
 "nbformat_minor": 2
}
